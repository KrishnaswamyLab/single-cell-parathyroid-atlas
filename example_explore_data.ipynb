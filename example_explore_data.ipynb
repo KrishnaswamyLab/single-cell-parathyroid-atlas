{
 "cells": [
  {
   "cell_type": "code",
   "execution_count": 43,
   "id": "8d6632cc-4732-4f2a-8d52-dd1ce556b09d",
   "metadata": {},
   "outputs": [],
   "source": [
    "# download the data from Google Drive\n",
    "import requests\n",
    "_GOOGLE_DRIVE_URL = \"https://docs.google.com/uc?export=download\"\n",
    "_CHUNK_SIZE = 32768\n",
    "def _GET_google_drive(id):\n",
    "    with requests.Session() as session:\n",
    "        params = {\"id\": id, \"confirm\": 1}\n",
    "        response = session.get(_GOOGLE_DRIVE_URL, params=params, stream=True)\n",
    "    return response\n",
    "def _save_response_content(response, destination):\n",
    "    global _CHUNK_SIZE\n",
    "    if isinstance(destination, str):\n",
    "        with open(destination, \"wb\") as handle:\n",
    "            _save_response_content(response, handle)\n",
    "    else:\n",
    "        for chunk in response.iter_content(_CHUNK_SIZE):\n",
    "            if chunk:  # filter out keep-alive new chunks\n",
    "                destination.write(chunk)\n",
    "\n",
    "def download_google_drive(id, destination):\n",
    "    response = _GET_google_drive(id)\n",
    "    _save_response_content(response, destination)"
   ]
  },
  {
   "cell_type": "code",
   "execution_count": 50,
   "id": "8f1c214a-eb29-4b65-aafc-c508f3cee603",
   "metadata": {},
   "outputs": [],
   "source": [
    "download_google_drive('1BTmIm8bU_WK6AHLQyMFjhxsA_lNRuNA0', destination='primate.h5ad')"
   ]
  },
  {
   "cell_type": "code",
   "execution_count": 53,
   "id": "001939bc-5e70-460a-b616-f23dbe41a2f2",
   "metadata": {},
   "outputs": [],
   "source": [
    "import scanpy"
   ]
  },
  {
   "cell_type": "code",
   "execution_count": 55,
   "id": "79b6a6a4-ac41-43a1-9332-14adfe177787",
   "metadata": {},
   "outputs": [
    {
     "data": {
      "text/plain": [
       "AnnData object with n_obs × n_vars = 22174 × 19708\n",
       "    obs: 'batch', 'sample', 'mito_percent', 'n_genes', 'pseudotime'\n",
       "    var: 'gene_ids', 'feature_types', 'genome', 'n_cells', 'highly_variable', 'reannotated_gene_names'\n",
       "    uns: 'sample_colors'\n",
       "    obsm: 'X_pca', 'X_phate_mnn'\n",
       "    layers: 'X_batch_mean', 'X_decontaminated_counts'"
      ]
     },
     "execution_count": 55,
     "metadata": {},
     "output_type": "execute_result"
    }
   ],
   "source": [
    "adata = scanpy.read_h5ad('primate.h5ad')\n",
    "adata"
   ]
  },
  {
   "cell_type": "code",
   "execution_count": 56,
   "id": "43269fab-b3e5-4afe-90d3-d375b60e8582",
   "metadata": {},
   "outputs": [
    {
     "data": {
      "text/plain": [
       "AnnData object with n_obs × n_vars = 22174 × 19708\n",
       "    obs: 'batch', 'sample', 'mito_percent', 'n_genes', 'pseudotime'\n",
       "    var: 'gene_ids', 'feature_types', 'genome', 'n_cells', 'highly_variable', 'reannotated_gene_names'\n",
       "    uns: 'sample_colors'\n",
       "    obsm: 'X_pca', 'X_phate_mnn'\n",
       "    layers: 'X_batch_mean', 'X_decontaminated_counts'"
      ]
     },
     "execution_count": 56,
     "metadata": {},
     "output_type": "execute_result"
    }
   ],
   "source": [
    "adata"
   ]
  }
 ],
 "metadata": {
  "kernelspec": {
   "display_name": "Python 3 (ipykernel)",
   "language": "python",
   "name": "python3"
  },
  "language_info": {
   "codemirror_mode": {
    "name": "ipython",
    "version": 3
   },
   "file_extension": ".py",
   "mimetype": "text/x-python",
   "name": "python",
   "nbconvert_exporter": "python",
   "pygments_lexer": "ipython3",
   "version": "3.8.18"
  }
 },
 "nbformat": 4,
 "nbformat_minor": 5
}
