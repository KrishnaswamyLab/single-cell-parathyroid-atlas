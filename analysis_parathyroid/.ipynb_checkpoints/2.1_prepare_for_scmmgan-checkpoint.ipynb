{
 "cells": [
  {
   "cell_type": "code",
   "execution_count": 1,
   "id": "7442b254-e5ed-4272-b499-ae002923df3f",
   "metadata": {},
   "outputs": [],
   "source": [
    "import scanpy, graphtools, magic\n",
    "import scipy"
   ]
  },
  {
   "cell_type": "markdown",
   "id": "64386a99-b651-4b6e-b17a-eac33aae8ac1",
   "metadata": {},
   "source": [
    "## Encoded NHP data"
   ]
  },
  {
   "cell_type": "code",
   "execution_count": null,
   "id": "f7b92852-edc4-4f3f-a829-f8c05ab78aae",
   "metadata": {},
   "outputs": [],
   "source": [
    "anndata_primate = scanpy.read_h5ad('../data/processed_files/4_primate_parathyroid_cells_all_genes.h5ad')"
   ]
  },
  {
   "cell_type": "code",
   "execution_count": null,
   "id": "d4c2b4d3-8e3e-4c4c-b5f3-4332ca32f26e",
   "metadata": {},
   "outputs": [],
   "source": [
    "primate_graph = graphtools.Graph(anndata_primate.obsm[\"X_pca\"], use_pygsp=True, n_pca=None,\n",
    "                                 random_state=42, sample_idx=anndata_primate.obs.batch.astype(int), bandwidth_scale=0.5)\n",
    "\n",
    "magic_op = magic.MAGIC(random_state=42, t=1)\n",
    "magic_op.graph = primate_graph\n",
    "anndata_primate.layers['X_magic'] = magic_op.transform(anndata_primate.to_df().values, ) \n",
    "\n",
    "np.savez_compressed('../data/processed_files/5_primate_parathyroid_cells_all_genes_batch_corrected.npz', data=anndata_primate.layers['X_magic'],\n",
    "                    batches=np.array(anndata_primate.obs['batch']), genes=np.array(anndata_primate.var['reannotated_gene_names']))"
   ]
  },
  {
   "cell_type": "markdown",
   "id": "fbed5941-d17b-426b-af20-7b22804db67e",
   "metadata": {},
   "source": [
    "## Encoded Human data"
   ]
  },
  {
   "cell_type": "code",
   "execution_count": null,
   "id": "11769d68-917c-49db-8a98-c57aa2f0de7b",
   "metadata": {},
   "outputs": [],
   "source": [
    "anndata_human = scanpy.read_h5ad('../data/processed_files/4_human_parathyroid_cells_all_genes.h5ad')"
   ]
  },
  {
   "cell_type": "code",
   "execution_count": null,
   "id": "0b16204a-51e7-4651-a7f2-58e50cd295ca",
   "metadata": {},
   "outputs": [],
   "source": [
    "human_graph = graphtools.Graph(anndata_human.obsm[\"X_pca\"], use_pygsp=True, n_pca=None,\n",
    "                                 random_state=42, sample_idx=anndata_human.obs.batch, bandwidth_scale=0.5)"
   ]
  },
  {
   "cell_type": "code",
   "execution_count": null,
   "id": "46b4c392-93e1-4ee0-904f-5c4307462298",
   "metadata": {},
   "outputs": [],
   "source": [
    "magic_op = magic.MAGIC(random_state=42, t=10)\n",
    "magic_op.graph = human_graph\n",
    "anndata_human.layers['X_magic'] = magic_op.transform(anndata_human.to_df().values, ) \n",
    "anndata_human.X = scipy.sparse.csr_matrix(anndata_human.layers['X_magic'])"
   ]
  },
  {
   "cell_type": "code",
   "execution_count": null,
   "id": "5804dfe4-8cee-424f-b764-a35e528ec65e",
   "metadata": {},
   "outputs": [],
   "source": [
    "anndata_human.write('../data/processed_files/5_human_parathyroid_cells_all_genes_batch_corrected.h5ad')"
   ]
  },
  {
   "cell_type": "code",
   "execution_count": null,
   "id": "d4739f45-39d4-40db-b660-619430588ad5",
   "metadata": {},
   "outputs": [],
   "source": [
    "splits = {}\n",
    "for sample in ['Y7', 'Y9', 'Y11', 'Y13']:\n",
    "    splits[sample] = np.array_split(adata[adata.obs['sample'] == sample].obs_names.tolist(), 10)"
   ]
  },
  {
   "cell_type": "code",
   "execution_count": null,
   "id": "4533a024-b9ec-4762-8ecb-b89d543e6b5a",
   "metadata": {},
   "outputs": [],
   "source": [
    "test_runs = []\n",
    "for s in range(10):\n",
    "    test_run = []\n",
    "    for sample in ['Y7', 'Y9', 'Y11', 'Y13']:\n",
    "        test_run.extend(splits[sample][s])\n",
    "    test_runs.append(test_run)"
   ]
  },
  {
   "cell_type": "code",
   "execution_count": null,
   "id": "01f563c5-93c3-433d-9946-4b62aae51ba1",
   "metadata": {},
   "outputs": [],
   "source": [
    "np.savez('../data/mapping_test_runs.npz', test_runs=test_runs)"
   ]
  }
 ],
 "metadata": {
  "kernelspec": {
   "display_name": "Python 3 (ipykernel)",
   "language": "python",
   "name": "python3"
  },
  "language_info": {
   "codemirror_mode": {
    "name": "ipython",
    "version": 3
   },
   "file_extension": ".py",
   "mimetype": "text/x-python",
   "name": "python",
   "nbconvert_exporter": "python",
   "pygments_lexer": "ipython3",
   "version": "3.8.18"
  }
 },
 "nbformat": 4,
 "nbformat_minor": 5
}
