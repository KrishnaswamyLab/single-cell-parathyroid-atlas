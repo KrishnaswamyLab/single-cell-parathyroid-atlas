{
 "cells": [
  {
   "cell_type": "code",
   "execution_count": 1,
   "id": "7bf7c55d-507e-4737-927c-36696447807f",
   "metadata": {},
   "outputs": [],
   "source": [
    "import numpy as np\n",
    "import pandas as pd\n",
    "import scanpy, scipy\n",
    "from sklearn import metrics\n",
    "import matplotlib.pyplot as plt"
   ]
  },
  {
   "cell_type": "code",
   "execution_count": 2,
   "id": "7c36e5c5-7646-4336-8df4-98e9922d5111",
   "metadata": {},
   "outputs": [],
   "source": [
    "with open('../data/processed_files/5_primate_parathyroid_cells_all_genes_batch_corrected.npz', 'rb') as f:\n",
    "    npzfile = np.load(f, allow_pickle=True)\n",
    "    primate_magan_data = npzfile['data']\n",
    "    primate_genes = npzfile['genes']\n",
    "    \n",
    "primate_magan_data = pd.DataFrame(primate_magan_data, columns=primate_genes)\n",
    "primate_magan_data = primate_magan_data.iloc[:, ~primate_magan_data.columns.duplicated()]"
   ]
  },
  {
   "cell_type": "code",
   "execution_count": 3,
   "id": "7a3410d6-f25f-4220-ab3d-f2c23d6a163b",
   "metadata": {},
   "outputs": [],
   "source": [
    "df_human = scanpy.read_h5ad('../data/processed_files/5_human_parathyroid_cells_all_genes_batch_corrected.h5ad')"
   ]
  },
  {
   "cell_type": "code",
   "execution_count": 4,
   "id": "10333f4b-fb58-4e23-ab18-089a7af35289",
   "metadata": {},
   "outputs": [],
   "source": [
    "with open('../data/processed_files/6_scMMGAN_human_to_primate.npz', 'rb') as f:\n",
    "    npzfile = np.load(f)\n",
    "    human_magan_data = npzfile['human_to_primate']\n",
    "    \n",
    "human_magan_data = pd.DataFrame(human_magan_data, index=df_human.obs_names, columns=primate_genes)\n",
    "human_magan_data = human_magan_data.iloc[:, ~human_magan_data.columns.duplicated()]"
   ]
  },
  {
   "cell_type": "code",
   "execution_count": 5,
   "id": "a7ff9e72-0b47-4a3e-92bc-0fcf180ef7de",
   "metadata": {},
   "outputs": [],
   "source": [
    "data_ref = pd.DataFrame(df_human.to_df().values, columns=df_human.var['PrimateEnsemblID'].tolist(), index=df_human.obs_names)\n",
    "data_ref = data_ref.loc[:, data_ref.sum(axis=0) != 0]\n",
    "genes = np.array(list(primate_magan_data.columns))\n",
    "\n",
    "intersection_genes = np.array(list(set(genes).intersection(data_ref.columns)))\n",
    "data_ref[intersection_genes] = (data_ref[intersection_genes] - data_ref[intersection_genes].mean(axis=0) + primate_magan_data[intersection_genes].mean(axis=0))"
   ]
  },
  {
   "cell_type": "markdown",
   "id": "6978e3bb-e935-4b94-abaf-f253162152bb",
   "metadata": {},
   "source": [
    "### scMMGAN Test set metrics (per sample)"
   ]
  },
  {
   "cell_type": "code",
   "execution_count": 14,
   "id": "7c3bcaaa-ef0b-4970-90bf-58d432fdb458",
   "metadata": {},
   "outputs": [],
   "source": [
    "primate_magan_data = primate_magan_data.loc[:, primate_magan_data.sum(axis=0) != 0]\n",
    "intersection_genes = np.array(list(set(primate_magan_data.columns).intersection(data_ref.columns)))"
   ]
  },
  {
   "cell_type": "code",
   "execution_count": 13,
   "id": "b5de14cf-0463-4aa0-8610-a80eb33c9654",
   "metadata": {},
   "outputs": [],
   "source": [
    "correlation_df = pd.DataFrame(index=range(10), columns=['total cell pearson', 'total gene pearson',\n",
    "                                                        'Y7 cell pearson', 'Y7 gene pearson', \n",
    "                                                        'Y9 cell pearson', 'Y9 gene pearson',\n",
    "                                                        'Y11 cell pearson', 'Y11 gene pearson',\n",
    "                                                        'Y13 cell pearson', 'Y13 gene pearson'])"
   ]
  },
  {
   "cell_type": "code",
   "execution_count": null,
   "id": "5c4f79dc-da54-44f6-ba24-7a4bcaf4b0d3",
   "metadata": {},
   "outputs": [],
   "source": [
    "for i in range(10):\n",
    "    npzfile = np.load(f'../data/processed_files/6_scMMGAN_human_to_primate_test_{i}.npz')\n",
    "    test_cells = np.load('../data/mapping_test_runs.npz', allow_pickle=True)['test_runs'][i]\n",
    "    train_cells = list(set(data_ref.index) - set(test_cells))\n",
    "    human_magan_train = pd.DataFrame(npzfile['human_to_primate'], index=train_cells, columns=primate_magan_data.columns)\n",
    "    human_magan_test = pd.DataFrame(npzfile['human_to_primate_test'], index=test_cells, columns=primate_magan_data.columns)\n",
    "\n",
    "    correlations = []\n",
    "    for cell in test_cells:\n",
    "        correlations.append(scipy.stats.pearsonr(data_ref.loc[cell, intersection_genes],\n",
    "                                                 human_magan_test.loc[cell, intersection_genes]).correlation)\n",
    "    correlation_df.loc[i, 'total cell pearson'] = np.nanmean(correlations)\n",
    "    \n",
    "    correlations = []\n",
    "    for gene in intersection_genes:\n",
    "        correlations.append(scipy.stats.pearsonr(data_ref.loc[test_cells, gene],\n",
    "                                                 human_magan_test.loc[test_cells, gene]).correlation)\n",
    "    \n",
    "    correlation_df.loc[i, 'total gene pearson'] = np.nanmean(correlations)\n",
    "\n",
    "    for sample in ['Y7', 'Y9', 'Y11', 'Y13']:\n",
    "        test_sample = data_ref.loc[(df_human.obs['sample'] == sample) & (data_ref.index.isin(test_cells))].index\n",
    "        correlations = []\n",
    "        for cell in test_sample:\n",
    "            correlations.append(scipy.stats.pearsonr(data_ref.loc[cell, intersection_genes],\n",
    "                                                     human_magan_test.loc[cell, intersection_genes]).correlation)\n",
    "        correlation_df.loc[i, f'{sample} cell pearson'] = np.nanmean(correlations)\n",
    "        \n",
    "        correlations = []\n",
    "        for gene in intersection_genes:\n",
    "            correlations.append(scipy.stats.pearsonr(data_ref.loc[test_sample, gene],\n",
    "                                                     human_magan_test.loc[test_sample, gene]).correlation)\n",
    "        \n",
    "        correlation_df.loc[i, f'{sample} gene pearson'] = np.nanmean(correlations)\n",
    "\n",
    "    correlation_df.to_csv('results/human_parathyroid/scmmgan_correlation_pearsonr.csv')"
   ]
  },
  {
   "cell_type": "markdown",
   "id": "89431eaa-0b39-4e60-a28b-3c3f120f0a78",
   "metadata": {},
   "source": [
    "### CycleGAN Test set metrics (per sample)"
   ]
  },
  {
   "cell_type": "code",
   "execution_count": 9,
   "id": "fa67be91-3af2-49bf-b3a7-acdeaeb78c19",
   "metadata": {},
   "outputs": [],
   "source": [
    "primate_magan_data = primate_magan_data.loc[:, primate_magan_data.sum(axis=0) != 0]"
   ]
  },
  {
   "cell_type": "code",
   "execution_count": 10,
   "id": "16e43aba-7013-4638-b1e3-d698feea6341",
   "metadata": {},
   "outputs": [],
   "source": [
    "intersection_genes = np.array(list(set(primate_magan_data.columns).intersection(data_ref.columns)))"
   ]
  },
  {
   "cell_type": "code",
   "execution_count": 11,
   "id": "351e492d-701d-4bb8-b742-c1f048c04eaa",
   "metadata": {},
   "outputs": [],
   "source": [
    "correlation_df = pd.DataFrame(index=range(10), columns=['total cell pearson', 'total gene pearson',\n",
    "                                                        'Y7 cell pearson', 'Y7 gene pearson', \n",
    "                                                        'Y9 cell pearson', 'Y9 gene pearson',\n",
    "                                                        'Y11 cell pearson', 'Y11 gene pearson',\n",
    "                                                        'Y13 cell pearson', 'Y13 gene pearson'])"
   ]
  },
  {
   "cell_type": "code",
   "execution_count": null,
   "id": "6eb83088-cba4-4ac6-ad03-a64affd98a09",
   "metadata": {},
   "outputs": [],
   "source": [
    "for i in range(10):\n",
    "    npzfile = np.load(f'../data/processed_files/6_cyclegan_human_to_primate_test_{i}.npz')\n",
    "    test_cells = np.load('../data/mapping_test_runs.npz', allow_pickle=True)['test_runs'][i]\n",
    "    train_cells = list(set(data_ref.index) - set(test_cells))\n",
    "    human_magan_train = pd.DataFrame(npzfile['human_to_primate'], index=train_cells, columns=primate_magan_data.columns)\n",
    "    human_magan_test = pd.DataFrame(npzfile['human_to_primate_test'], index=test_cells, columns=primate_magan_data.columns)\n",
    "\n",
    "    correlations = []\n",
    "    for cell in test_cells:\n",
    "        correlations.append(scipy.stats.pearsonr(data_ref.loc[cell, intersection_genes],\n",
    "                                                 human_magan_test.loc[cell, intersection_genes]).correlation)\n",
    "    correlation_df.loc[i, 'total cell pearson'] = np.nanmean(correlations)\n",
    "    \n",
    "    correlations = []\n",
    "    for gene in intersection_genes:\n",
    "        correlations.append(scipy.stats.pearsonr(data_ref.loc[test_cells, gene],\n",
    "                                                 human_magan_test.loc[test_cells, gene]).correlation)\n",
    "    \n",
    "    correlation_df.loc[i, 'total gene pearson'] = np.nanmean(correlations)\n",
    "\n",
    "    for sample in ['Y7', 'Y9', 'Y11', 'Y13']:\n",
    "        test_sample = data_ref.loc[(df_human.obs['sample'] == sample) & (data_ref.index.isin(test_cells))].index\n",
    "        correlations = []\n",
    "        for cell in test_sample:\n",
    "            correlations.append(scipy.stats.pearsonr(data_ref.loc[cell, intersection_genes],\n",
    "                                                     human_magan_test.loc[cell, intersection_genes]).correlation)\n",
    "        correlation_df.loc[i, f'{sample} cell pearson'] = np.nanmean(correlations)\n",
    "        \n",
    "        correlations = []\n",
    "        for gene in intersection_genes:\n",
    "            correlations.append(scipy.stats.pearsonr(data_ref.loc[test_sample, gene],\n",
    "                                                     human_magan_test.loc[test_sample, gene]).correlation)\n",
    "        \n",
    "        correlation_df.loc[i, f'{sample} gene pearson'] = np.nanmean(correlations)\n",
    "\n",
    "    correlation_df.to_csv('results/human_parathyroid/cyclegan_correlation_pearsonr.csv')"
   ]
  }
 ],
 "metadata": {
  "kernelspec": {
   "display_name": "Python 3 (ipykernel)",
   "language": "python",
   "name": "python3"
  },
  "language_info": {
   "codemirror_mode": {
    "name": "ipython",
    "version": 3
   },
   "file_extension": ".py",
   "mimetype": "text/x-python",
   "name": "python",
   "nbconvert_exporter": "python",
   "pygments_lexer": "ipython3",
   "version": "3.8.18"
  }
 },
 "nbformat": 4,
 "nbformat_minor": 5
}
